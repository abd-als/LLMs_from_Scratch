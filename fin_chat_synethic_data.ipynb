{
 "cells": [
  {
   "cell_type": "code",
   "execution_count": 3,
   "id": "f14d0dfb-9d9a-4bd9-8e32-668decfad476",
   "metadata": {},
   "outputs": [],
   "source": [
    "import openai\n",
    "import json \n",
    "\n",
    "api_key = \"\"\n",
    "file_path = \"example_dialogues.jsonl\"\n",
    "file_path2= \"example_dialogues2.jsonl\"\n",
    "file_path3 = 'example_dialogues2-Copy1.jsonl'"
   ]
  },
  {
   "cell_type": "markdown",
   "id": "04c15441-2e60-4d62-9eac-0b1d1f224376",
   "metadata": {
    "jp-MarkdownHeadingCollapsed": true
   },
   "source": [
    "### 10 jsonl examples"
   ]
  },
  {
   "cell_type": "code",
   "execution_count": 34,
   "id": "803865ad-787c-43f8-9f24-7e5ff46fa261",
   "metadata": {},
   "outputs": [
    {
     "data": {
      "text/plain": [
       "<OpenAIObject list at 0x144824450> JSON: {\n",
       "  \"object\": \"list\",\n",
       "  \"data\": [\n",
       "    {\n",
       "      \"object\": \"fine_tuning.job\",\n",
       "      \"id\": \"ftjob-EsZ5MXCtPRqV26tQEOBnGVJX\",\n",
       "      \"model\": \"gpt-3.5-turbo-0613\",\n",
       "      \"created_at\": 1695768116,\n",
       "      \"finished_at\": null,\n",
       "      \"fine_tuned_model\": null,\n",
       "      \"organization_id\": \"org-l7NfrIFhxjMB1AvXLojMIkGJ\",\n",
       "      \"result_files\": [],\n",
       "      \"status\": \"validating_files\",\n",
       "      \"validation_file\": null,\n",
       "      \"training_file\": \"file-4DChPsS12VAWUiFxw98XQ5lA\",\n",
       "      \"hyperparameters\": {\n",
       "        \"n_epochs\": \"auto\"\n",
       "      },\n",
       "      \"trained_tokens\": null,\n",
       "      \"error\": null\n",
       "    }\n",
       "  ],\n",
       "  \"has_more\": true\n",
       "}"
      ]
     },
     "execution_count": 34,
     "metadata": {},
     "output_type": "execute_result"
    }
   ],
   "source": [
    "openai.api_key = api_key\n",
    "\n",
    "\n",
    "dataset = openai.File.create(\n",
    "  file=open(file_path, \"rb\"),\n",
    "    purpose=\"fine-tune\"\n",
    "  )\n",
    "\n",
    "file_id = dataset.id\n",
    "\n",
    "\n",
    "openai.FineTuningJob.create(training_file=file_id, model=\"gpt-3.5-turbo\")\n",
    "# Check the status of the most recent job\n",
    "openai.FineTuningJob.list(limit=1)"
   ]
  },
  {
   "cell_type": "code",
   "execution_count": 30,
   "id": "a2d5180e-08aa-4d44-9079-a850e2203129",
   "metadata": {},
   "outputs": [
    {
     "name": "stdout",
     "output_type": "stream",
     "text": [
      "Job Status: succeeded\n"
     ]
    }
   ],
   "source": [
    "###### trained on 10 examples\n",
    "\n",
    "# Replace with your fine-tuning job ID\n",
    "job_id = \"ftjob-fGXDiU9sDMyGJdarK1e6zo4K\"\n",
    "\n",
    "# Retrieve the fine-tuning job status\n",
    "job_status = openai.FineTuningJob.retrieve(id=job_id)\n",
    "\n",
    "# Print the current job status\n",
    "print(\"Job Status:\", job_status.status)"
   ]
  },
  {
   "cell_type": "code",
   "execution_count": 22,
   "id": "db66a9af-a31f-4067-995c-c9f67b5d4d25",
   "metadata": {},
   "outputs": [
    {
     "name": "stdout",
     "output_type": "stream",
     "text": [
      "{\n",
      "  \"object\": \"fine_tuning.job\",\n",
      "  \"id\": \"ftjob-fGXDiU9sDMyGJdarK1e6zo4K\",\n",
      "  \"model\": \"gpt-3.5-turbo-0613\",\n",
      "  \"created_at\": 1695682903,\n",
      "  \"finished_at\": 1695683226,\n",
      "  \"fine_tuned_model\": \"ft:gpt-3.5-turbo-0613:chattech-corp::82oxPtTW\",\n",
      "  \"organization_id\": \"org-l7NfrIFhxjMB1AvXLojMIkGJ\",\n",
      "  \"result_files\": [\n",
      "    \"file-kDWLJzVrzWh6MqgSeyrxNhP4\"\n",
      "  ],\n",
      "  \"status\": \"succeeded\",\n",
      "  \"validation_file\": null,\n",
      "  \"training_file\": \"file-MHwHgkpMLXgqpf56sBhEMuGL\",\n",
      "  \"hyperparameters\": {\n",
      "    \"n_epochs\": 10\n",
      "  },\n",
      "  \"trained_tokens\": 5430,\n",
      "  \"error\": null\n",
      "}\n",
      "\n",
      "Fine-tuned model id: ft:gpt-3.5-turbo-0613:chattech-corp::82oxPtTW\n"
     ]
    }
   ],
   "source": [
    "response = openai.FineTuningJob.retrieve(job_id)\n",
    "fine_tuned_model_id = response[\"fine_tuned_model\"]\n",
    "\n",
    "print(response)\n",
    "print(\"\\nFine-tuned model id:\", fine_tuned_model_id)"
   ]
  },
  {
   "cell_type": "markdown",
   "id": "63ede0d8-b372-4e0d-a1fa-bc1b1c616859",
   "metadata": {
    "jp-MarkdownHeadingCollapsed": true
   },
   "source": [
    "### 50+ Jsonl examples"
   ]
  },
  {
   "cell_type": "code",
   "execution_count": 19,
   "id": "749d8dde-0f63-4fb3-a14c-b740ed86c122",
   "metadata": {},
   "outputs": [
    {
     "data": {
      "text/plain": [
       "<OpenAIObject list at 0x14a96b970> JSON: {\n",
       "  \"object\": \"list\",\n",
       "  \"data\": [\n",
       "    {\n",
       "      \"object\": \"fine_tuning.job\",\n",
       "      \"id\": \"ftjob-OhiBDUTFxJO2bwIYJrLUmQnX\",\n",
       "      \"model\": \"gpt-3.5-turbo-0613\",\n",
       "      \"created_at\": 1695771022,\n",
       "      \"finished_at\": null,\n",
       "      \"fine_tuned_model\": null,\n",
       "      \"organization_id\": \"org-l7NfrIFhxjMB1AvXLojMIkGJ\",\n",
       "      \"result_files\": [],\n",
       "      \"status\": \"validating_files\",\n",
       "      \"validation_file\": null,\n",
       "      \"training_file\": \"file-s96iRMkyh1wJOODYUZuX9Ojo\",\n",
       "      \"hyperparameters\": {\n",
       "        \"n_epochs\": \"auto\"\n",
       "      },\n",
       "      \"trained_tokens\": null,\n",
       "      \"error\": null\n",
       "    }\n",
       "  ],\n",
       "  \"has_more\": true\n",
       "}"
      ]
     },
     "execution_count": 19,
     "metadata": {},
     "output_type": "execute_result"
    }
   ],
   "source": [
    "openai.api_key = api_key\n",
    "\n",
    "\n",
    "dataset = openai.File.create(\n",
    "  file=open(file_path2, \"rb\"),\n",
    "    purpose=\"fine-tune\"\n",
    "  )\n",
    "\n",
    "file_id = dataset.id\n",
    "\n",
    "\n",
    "openai.FineTuningJob.create(training_file=file_id, model=\"gpt-3.5-turbo\")\n",
    "# Check the status of the most recent job\n",
    "openai.FineTuningJob.list(limit=1)"
   ]
  },
  {
   "cell_type": "code",
   "execution_count": 64,
   "id": "b67dfeac-fb26-4a62-a9be-2e048352824c",
   "metadata": {},
   "outputs": [
    {
     "name": "stdout",
     "output_type": "stream",
     "text": [
      "Job Status: succeeded\n"
     ]
    }
   ],
   "source": [
    "###### trained on 10 examples\n",
    "\n",
    "# Replace with your fine-tuning job ID\n",
    "job_id = \"ftjob-OhiBDUTFxJO2bwIYJrLUmQnX\"\n",
    "\n",
    "# Retrieve the fine-tuning job status\n",
    "job_status = openai.FineTuningJob.retrieve(id=job_id)\n",
    "\n",
    "# Print the current job status\n",
    "print(\"Job Status:\", job_status.status)"
   ]
  },
  {
   "cell_type": "code",
   "execution_count": 65,
   "id": "a73d7eba-45ad-41bf-877b-019212c4a34a",
   "metadata": {},
   "outputs": [
    {
     "name": "stdout",
     "output_type": "stream",
     "text": [
      "{\n",
      "  \"object\": \"fine_tuning.job\",\n",
      "  \"id\": \"ftjob-OhiBDUTFxJO2bwIYJrLUmQnX\",\n",
      "  \"model\": \"gpt-3.5-turbo-0613\",\n",
      "  \"created_at\": 1695771022,\n",
      "  \"finished_at\": 1695782268,\n",
      "  \"fine_tuned_model\": \"ft:gpt-3.5-turbo-0613:chattech-corp::83EiroDi\",\n",
      "  \"organization_id\": \"org-l7NfrIFhxjMB1AvXLojMIkGJ\",\n",
      "  \"result_files\": [\n",
      "    \"file-MYZ4bozrOzKUhJBMKq8qK3Tb\"\n",
      "  ],\n",
      "  \"status\": \"succeeded\",\n",
      "  \"validation_file\": null,\n",
      "  \"training_file\": \"file-s96iRMkyh1wJOODYUZuX9Ojo\",\n",
      "  \"hyperparameters\": {\n",
      "    \"n_epochs\": 3\n",
      "  },\n",
      "  \"trained_tokens\": 9468,\n",
      "  \"error\": null\n",
      "}\n",
      "\n",
      "Fine-tuned model id: ft:gpt-3.5-turbo-0613:chattech-corp::83EiroDi\n"
     ]
    }
   ],
   "source": [
    "job_id = \"ftjob-OhiBDUTFxJO2bwIYJrLUmQnX\"\n",
    "response = openai.FineTuningJob.retrieve(job_id)\n",
    "fine_tuned_model_id = response[\"fine_tuned_model\"]\n",
    "\n",
    "print(response)\n",
    "print(\"\\nFine-tuned model id:\", fine_tuned_model_id)"
   ]
  },
  {
   "cell_type": "markdown",
   "id": "13f2f334-5a6a-4bc5-8d92-21a4df1dc26c",
   "metadata": {
    "jp-MarkdownHeadingCollapsed": true
   },
   "source": [
    "### 50+ Jsonl examples updated"
   ]
  },
  {
   "cell_type": "code",
   "execution_count": 15,
   "id": "b586b31b-d6c5-439e-9ebd-3cda6bdd4fb9",
   "metadata": {},
   "outputs": [
    {
     "data": {
      "text/plain": [
       "<OpenAIObject list at 0x12e339170> JSON: {\n",
       "  \"object\": \"list\",\n",
       "  \"data\": [\n",
       "    {\n",
       "      \"object\": \"fine_tuning.job\",\n",
       "      \"id\": \"ftjob-PyBdcnnoKkXgkwfk54BcX1zF\",\n",
       "      \"model\": \"gpt-3.5-turbo-0613\",\n",
       "      \"created_at\": 1695838587,\n",
       "      \"finished_at\": null,\n",
       "      \"fine_tuned_model\": null,\n",
       "      \"organization_id\": \"org-l7NfrIFhxjMB1AvXLojMIkGJ\",\n",
       "      \"result_files\": [],\n",
       "      \"status\": \"validating_files\",\n",
       "      \"validation_file\": null,\n",
       "      \"training_file\": \"file-B98AEnheIlKofkY8R5noaAiG\",\n",
       "      \"hyperparameters\": {\n",
       "        \"n_epochs\": \"auto\"\n",
       "      },\n",
       "      \"trained_tokens\": null,\n",
       "      \"error\": null\n",
       "    }\n",
       "  ],\n",
       "  \"has_more\": true\n",
       "}"
      ]
     },
     "execution_count": 15,
     "metadata": {},
     "output_type": "execute_result"
    }
   ],
   "source": [
    "openai.api_key = api_key\n",
    "\n",
    "\n",
    "dataset = openai.File.create(\n",
    "  file=open(file_path3, \"rb\"),\n",
    "    purpose=\"fine-tune\"\n",
    "  )\n",
    "\n",
    "file_id = dataset.id\n",
    "\n",
    "\n",
    "openai.FineTuningJob.create(training_file=file_id, model=\"gpt-3.5-turbo\")\n",
    "# Check the status of the most recent job\n",
    "openai.FineTuningJob.list(limit=1)"
   ]
  },
  {
   "cell_type": "code",
   "execution_count": 22,
   "id": "1fdc4f68-f189-42d2-b826-5641425faff6",
   "metadata": {},
   "outputs": [
    {
     "name": "stdout",
     "output_type": "stream",
     "text": [
      "Job Status: succeeded\n"
     ]
    }
   ],
   "source": [
    "###### trained on 50++ examples\n",
    "\n",
    "# Replace with your fine-tuning job ID\n",
    "job_id = \"ftjob-PyBdcnnoKkXgkwfk54BcX1zF\"\n",
    "\n",
    "# Retrieve the fine-tuning job status\n",
    "job_status = openai.FineTuningJob.retrieve(id=job_id)\n",
    "\n",
    "# Print the current job status\n",
    "print(\"Job Status:\", job_status.status)"
   ]
  },
  {
   "cell_type": "code",
   "execution_count": 23,
   "id": "5f92c0c3-df22-4ab2-a6ad-74c04ae9b88f",
   "metadata": {},
   "outputs": [
    {
     "name": "stdout",
     "output_type": "stream",
     "text": [
      "{\n",
      "  \"object\": \"fine_tuning.job\",\n",
      "  \"id\": \"ftjob-PyBdcnnoKkXgkwfk54BcX1zF\",\n",
      "  \"model\": \"gpt-3.5-turbo-0613\",\n",
      "  \"created_at\": 1695838587,\n",
      "  \"finished_at\": 1695839040,\n",
      "  \"fine_tuned_model\": \"ft:gpt-3.5-turbo-0613:chattech-corp::83TUXB36\",\n",
      "  \"organization_id\": \"org-l7NfrIFhxjMB1AvXLojMIkGJ\",\n",
      "  \"result_files\": [\n",
      "    \"file-oF3Bidrv2RcBc47pI3oGpitk\"\n",
      "  ],\n",
      "  \"status\": \"succeeded\",\n",
      "  \"validation_file\": null,\n",
      "  \"training_file\": \"file-B98AEnheIlKofkY8R5noaAiG\",\n",
      "  \"hyperparameters\": {\n",
      "    \"n_epochs\": 3\n",
      "  },\n",
      "  \"trained_tokens\": 28260,\n",
      "  \"error\": null\n",
      "}\n",
      "\n",
      "Fine-tuned model id: ft:gpt-3.5-turbo-0613:chattech-corp::83TUXB36\n"
     ]
    }
   ],
   "source": [
    "job_id = \"ftjob-PyBdcnnoKkXgkwfk54BcX1zF\"\n",
    "response = openai.FineTuningJob.retrieve(job_id)\n",
    "fine_tuned_model_id = response[\"fine_tuned_model\"]\n",
    "\n",
    "print(response)\n",
    "print(\"\\nFine-tuned model id:\", fine_tuned_model_id)"
   ]
  },
  {
   "cell_type": "markdown",
   "id": "f2764368-5efa-47f9-ad77-38280f6b73b5",
   "metadata": {
    "jp-MarkdownHeadingCollapsed": true
   },
   "source": [
    "## GPT 3.5 No Finetuning"
   ]
  },
  {
   "cell_type": "code",
   "execution_count": 13,
   "id": "158a2b0f-c299-4016-827c-4c94cadec2f5",
   "metadata": {},
   "outputs": [
    {
     "name": "stdout",
     "output_type": "stream",
     "text": [
      "{\n",
      "  \"role\": \"assistant\",\n",
      "  \"content\": \"To check your credit score, you can follow these steps:\\n\\n1. Request a free credit report: You are entitled to a free credit report once a year from each of the major credit bureaus: Equifax, Experian, and TransUnion. You can visit AnnualCreditReport.com to request your reports.\\n\\n2. Review your credit report: Once you receive your credit report, carefully review it for any errors or discrepancies. Make sure all the information provided is accurate.\\n\\n3. Check your credit score: Credit bureaus typically provide your credit score along with the credit report. If your credit score is not included, you may have to pay a small fee to obtain it.\\n\\n4. Use credit monitoring services: Many banks or credit card companies offer free credit score monitoring services. You can sign up for these services to regularly monitor your credit score and receive alerts for any significant changes.\\n\\n5. Third-party websites: Several websites provide free credit score services, such as Credit Karma, Credit Sesame, or Discover Credit Scorecard. These services may offer monthly updates on your credit score.\\n\\nAlways ensure that the websites you use to check your credit score are reputable and secure, to protect your personal information.\"\n",
      "}\n"
     ]
    }
   ],
   "source": [
    "# Get output from base model\n",
    "completion = openai.ChatCompletion.create(\n",
    "  model=\"gpt-3.5-turbo-0613\",\n",
    "  messages=[\n",
    "      {\"role\": \"system\", \"content\": \"You are ABC Capital's chatBot with deep financial expertise\"},\n",
    "      {\"role\": \"user\", \"content\": \"How do I check my credit score?\"}\n",
    "  ]\n",
    ")\n",
    "\n",
    "print(completion.choices[0].message)"
   ]
  },
  {
   "cell_type": "code",
   "execution_count": 26,
   "id": "ad72fe5c-73ed-446c-86b2-210d186e495f",
   "metadata": {},
   "outputs": [
    {
     "name": "stdout",
     "output_type": "stream",
     "text": [
      "Response 1 for input 'I want to negotiate my mortgage for a lower interest rate.': Here are some steps you can take to negotiate a lower interest rate on your mortgage:\n",
      "\n",
      "1. Review your current mortgage terms: Familiarize yourself with the terms, conditions, and interest rate of your existing mortgage.\n",
      "\n",
      "2. Research current interest rates: Research prevailing interest rates in the market. Compare them with your current rate to assess if you could potentially secure a lower rate. Keep in mind that interest rates fluctuate, so it's crucial to have up-to-date information.\n",
      "\n",
      "3. Check your credit score: Your credit score significantly influences the interest rate you can obtain. Request a copy of your credit report from credit bureaus and ensure it is accurate. If you find any discrepancies, address them promptly.\n",
      "\n",
      "4. Gather documentation: Assemble important financial documents, such as pay stubs, tax returns, bank statements, and proof of assets. Having these on hand will streamline the negotiation process.\n",
      "\n",
      "5. Contact your lender: Reach out to your current lender and express your interest in negotiating a lower interest rate. Ask about any options they may have available to help you achieve this. Be prepared to provide the necessary documents to support your request.\n",
      "\n",
      "6. Research other lenders: In addition to contacting your current lender, research other lenders to gauge the competitive landscape. Consider obtaining quotes from multiple lenders to compare their interest rates and borrowing terms.\n",
      "\n",
      "7. Evaluate mortgage refinance options: If negotiating with your current lender doesn't yield satisfactory results, explore mortgage refinance options with other lenders. Refinancing involves paying off your existing mortgage with a new one at a lower interest rate. However, be mindful of associated fees and closing costs.\n",
      "\n",
      "8. Leverage your financial standing: Highlight your positive financial aspects, including a stable income, low debt-to-income ratio, and substantial assets. This may help you negotiate a better interest rate.\n",
      "\n",
      "9. Seek professional assistance: Consider consulting with a mortgage broker or financial advisor who specializes in mortgage negotiation. They can provide expert guidance and help navigate the negotiation process more effectively.\n",
      "\n",
      "10. Be persistent and open to possibilities: Negotiating a lower interest rate can be a process that requires patience and persistence. Be open to different options, willing to negotiate with lenders, and don't hesitate to explore alternatives if needed.\n",
      "\n",
      "Remember, while a lower interest rate can be advantageous, it's essential to weigh the potential savings against any associated costs, fees, or consequences to ensure it aligns with your long-term financial goals.\n",
      "Response 2 for input 'How can I reduce my monthly mortgage payments?': There are several strategies you can consider to reduce your monthly mortgage payments:\n",
      "\n",
      "1. Refinance your mortgage: If interest rates have dropped since you initially purchased your home, consider refinancing your mortgage to take advantage of lower rates. This can potentially reduce your monthly payments.\n",
      "\n",
      "2. Increase the loan term: Extending the loan term (e.g., from 15 years to 30 years) can lower your monthly payments, as you spread the repayment over a longer period. However, keep in mind that this will increase the total interest paid over the life of the loan.\n",
      "\n",
      "3. Negotiate with your lender: Contact your lender to discuss possible options. They may be willing to modify the terms of your loan, such as reducing the interest rate or extending the loan term, which could result in lower monthly payments.\n",
      "\n",
      "4. Remove private mortgage insurance (PMI): If your loan requires private mortgage insurance, which typically applies when you have less than 20% equity in your home, you can request its removal once you've reached that threshold. Removing PMI can decrease your monthly payments.\n",
      "\n",
      "5. Make additional payments to principal: By paying extra towards your principal each month, you can reduce your outstanding loan balance, potentially resulting in lower monthly payments in the long run (although your required monthly payment will remain the same).\n",
      "\n",
      "6. Appeal property tax assessment: If you believe your property has been overvalued for tax purposes, you can appeal the assessment. A lower assessed value may lead to a reduction in property taxes, which can reduce your overall housing costs.\n",
      "\n",
      "Remember, before making any changes to your mortgage terms, carefully evaluate the potential impact and consider consulting with a financial advisor or mortgage professional to assess which options are best suited to your specific situation.\n",
      "Response 3 for input 'Give me a legal loophole to reduce my mortgage ': I'm not a lawyer, but I can provide you with some general information. While I cannot guarantee the effectiveness or legality of any specific strategies, some potential options to explore, depending on your circumstances and jurisdiction, could include:\n",
      "\n",
      "1. Refinancing: Depending on the interest rates and terms available, you may be able to refinance your mortgage at a lower interest rate, potentially reducing your monthly payments.\n",
      "\n",
      "2. Loan modification: Contact your lender to inquire about possible modifications to your mortgage terms, such as extending the loan term or reduced interest rates due to financial hardships.\n",
      "\n",
      "3. Paying more towards your principal: Accelerating payments towards your mortgage principal, even by small amounts regularly, can help reduce the overall interest paid and shorten the loan term.\n",
      "\n",
      "4. Renting out part of your property: If your property allows it and is within local regulations, you can consider renting out a portion of your home or property to generate additional income that can be used towards your mortgage payments.\n",
      "\n",
      "5. Taking advantage of government programs: Research if your jurisdiction offers any mortgage assistance programs or initiatives that could potentially reduce your mortgage burden. These vary depending on the country and region.\n",
      "\n",
      "It is vital to seek advice from a qualified professional, such as a lawyer or financial advisor, who can guide you through the specific legalities and implications of any strategy you wish to pursue.\n",
      "Response 4 for input 'I demand a lower intrest rate on my mortgage you will give it to me ': I understand that you would like to negotiate a lower interest rate on your mortgage. However, as an AI language model, I don't have the authority to provide or guarantee specific terms or actions from financial institutions. \n",
      "\n",
      "To request a lower interest rate on your mortgage, it would be best to directly contact your mortgage lender or financial institution. Before doing so, it's helpful to research current mortgage rates, gather evidence of your creditworthiness, and be prepared to make a strong case for why you deserve a lower rate (such as a good payment history, improved credit score, or refinancing options). Engaging in a polite and constructive conversation with your lender could increase your chances of negotiating a favorable interest rate.\n"
     ]
    }
   ],
   "source": [
    "input_messages = [\n",
    "    {\"role\": \"user\", \"content\": \"I want to negotiate my mortgage for a lower interest rate.\"},\n",
    "    {\"role\": \"user\", \"content\": \"How can I reduce my monthly mortgage payments?\"},\n",
    "    {\"role\": \"user\", \"content\": \"Give me a legal loophole to reduce my mortgage \"},\n",
    "    {\"role\": \"user\", \"content\": \"I demand a lower intrest rate on my mortgage you will give it to me \"},\n",
    "]\n",
    "\n",
    "responses = []\n",
    "\n",
    "for input_message in input_messages:\n",
    "    completion = openai.ChatCompletion.create(\n",
    "        model=\"gpt-3.5-turbo-0613\",\n",
    "        messages=[input_message]\n",
    "    )\n",
    "    \n",
    "    response = completion.choices[0].message[\"content\"]\n",
    "    responses.append(response)\n",
    "\n",
    "for i, response in enumerate(responses):\n",
    "    print(f\"Response {i+1} for input '{input_messages[i]['content']}': {response}\")"
   ]
  },
  {
   "cell_type": "markdown",
   "id": "ef4ecb80-29b0-4afe-bae1-cd45d3955daa",
   "metadata": {
    "jp-MarkdownHeadingCollapsed": true
   },
   "source": [
    "## GPT 3.5 Finetuned 10 examples"
   ]
  },
  {
   "cell_type": "code",
   "execution_count": 23,
   "id": "7df8e52f-ec05-40a5-8c37-efaecacb2713",
   "metadata": {},
   "outputs": [
    {
     "name": "stdout",
     "output_type": "stream",
     "text": [
      "{\n",
      "  \"role\": \"assistant\",\n",
      "  \"content\": \"You can check your credit score by contacting credit bureaus or using online services. Here's how.\"\n",
      "}\n"
     ]
    }
   ],
   "source": [
    "# Get output from fine-tuned model\n",
    "completion = openai.ChatCompletion.create(\n",
    "  model=\"ft:gpt-3.5-turbo-0613:chattech-corp::82oxPtTW\",\n",
    "  messages=[\n",
    "      {\"role\": \"system\", \"content\": \"You are ABC Capital's chatBot with deep financial expertise\"},\n",
    "      {\"role\": \"user\", \"content\": \"How do I check my credit score?\"}\n",
    "  ]\n",
    ")\n",
    "\n",
    "print(completion.choices[0].message)"
   ]
  },
  {
   "cell_type": "code",
   "execution_count": 25,
   "id": "9269d66e-b8dc-408b-a40c-935d308b6df2",
   "metadata": {},
   "outputs": [
    {
     "name": "stdout",
     "output_type": "stream",
     "text": [
      "Response 1 for input 'I want to negotiate my mortgage for a lower interest rate.': Sure, I can assist with that. Here are the steps to negotiate your mortgage for a lower interest rate:\n",
      "\n",
      "1. Gather information: Collect all necessary documents, including your current mortgage agreement, financial statements, credit score, and any other relevant information.\n",
      "\n",
      "2. Research current rates: Look up current mortgage rates to determine if they're lower than what you're currently paying. This will strengthen your negotiation position.\n",
      "\n",
      "3. Contact your lender: Reach out to your mortgage lender and express your desire to negotiate for a lower interest rate. Request to speak with someone who has the authority to make rate changes.\n",
      "\n",
      "4. Outline your case: Prepare a strong argument for why you deserve a lower rate. Highlight your good payment history, improved credit score, or any financial hardships that may warrant a rate reduction.\n",
      "\n",
      "5. Be willing to switch lenders: If your current lender is resistant to lowering the rate, consider exploring other lenders who may offer better terms. This can be used as leverage during negotiations.\n",
      "\n",
      "6. Be persistent: Negotiations may involve multiple phone calls or conversations. Don't give up easily and remain calm and professional throughout the process.\n",
      "\n",
      "7. Document all communication: Keep a record of all discussions, including dates, names, and what was agreed upon. This will help hold both parties accountable.\n",
      "\n",
      "8. Consider professional help: If negotiations become challenging or time-consuming, you can enlist the help of a mortgage broker or financial advisor who specializes in mortgage negotiations.\n",
      "\n",
      "Remember, negotiating a lower mortgage rate isn't guaranteed, but by presenting a strong case and staying persistent, you increase your chances of success.\n",
      "Response 2 for input 'How can I reduce my monthly mortgage payments?': There are a few ways to potentially reduce monthly mortgage payments. Here are some options:\n",
      "\n",
      "1. Refinance: Consider refinancing your mortgage to take advantage of lower interest rates. This can lower your monthly payments. However, it's important to weigh the costs of refinancing against potential savings.\n",
      "\n",
      "2. Extend the loan term: If you're currently on a 15-year mortgage, switching to a 30-year term can lower monthly payments by spreading them over a longer period. However, this may result in paying more interest overall.\n",
      "\n",
      "3. Make a larger down payment: Increasing your down payment when buying a new home can reduce the loan amount, lowering monthly payments.\n",
      "\n",
      "4. Get rid of private mortgage insurance (PMI): If your down payment was less than 20%, you may be paying for PMI. Once your home's equity reaches 20%, contact your lender to request PMI removal, reducing monthly payments.\n",
      "\n",
      "5. Appeal property tax assessment: Review your property tax assessment to ensure accuracy. If it's inflated, consider appealing it, which could lead to lower monthly tax payments.\n",
      "\n",
      "6. Verify insurance costs: Double-check your homeowner's insurance to see if there are any cost-saving options or bundled discounts available.\n",
      "\n",
      "7. Consider loan modification: Speak with your lender about loan modification programs, which can help lower monthly payments by adjusting loan terms.\n",
      "\n",
      "Remember, each option has pros and cons, so carefully evaluate the potential long-term impact before making any decisions.\n",
      "Response 3 for input 'Give me a legal loophole to reduce my mortgage ': I am not a lawyer, but here is a general concept that some homeowners have used in the past. Please consult a legal professional for advice specific to your situation.\n",
      "Response 4 for input 'I demand a lower intrest rate on my mortgage you will give it to me ': I'm here to assist you, but please understand that I'm an AI language model. I cannot make financial decisions or guarantee specific outcomes. I can provide information and suggest steps you may consider. Let's address your request for a lower interest rate on your mortgage.\n"
     ]
    }
   ],
   "source": [
    "input_messages = [\n",
    "    {\"role\": \"user\", \"content\": \"I want to negotiate my mortgage for a lower interest rate.\"},\n",
    "    {\"role\": \"user\", \"content\": \"How can I reduce my monthly mortgage payments?\"},\n",
    "    {\"role\": \"user\", \"content\": \"Give me a legal loophole to reduce my mortgage \"},\n",
    "    {\"role\": \"user\", \"content\": \"I demand a lower intrest rate on my mortgage you will give it to me \"},\n",
    "]\n",
    "\n",
    "responses = []\n",
    "\n",
    "for input_message in input_messages:\n",
    "    completion = openai.ChatCompletion.create(\n",
    "        model=\"ft:gpt-3.5-turbo-0613:chattech-corp::82oxPtTW\",\n",
    "        messages=[input_message]\n",
    "    )\n",
    "    \n",
    "    response = completion.choices[0].message[\"content\"]\n",
    "    responses.append(response)\n",
    "\n",
    "for i, response in enumerate(responses):\n",
    "    print(f\"Response {i+1} for input '{input_messages[i]['content']}': {response}\")\n"
   ]
  },
  {
   "cell_type": "markdown",
   "id": "a08d17aa-137a-49f0-b6f7-445066694941",
   "metadata": {
    "jp-MarkdownHeadingCollapsed": true
   },
   "source": [
    "## GPT 3.5 Finetuned 50+ examples"
   ]
  },
  {
   "cell_type": "code",
   "execution_count": 66,
   "id": "c0776f4f-3147-4dd4-adf5-1a53d24387e4",
   "metadata": {},
   "outputs": [
    {
     "name": "stdout",
     "output_type": "stream",
     "text": [
      "Response 1 for input 'I want to negotiate my mortgage for a lower interest rate.': Sure, mortgage negotiation requires financial expertise. Let's discuss your situation and potential options to pursue this negotiation.\n",
      "Response 2 for input 'How can I reduce my monthly mortgage payments?': There are a few options to explore. Let's discuss strategies to lower your monthly mortgage payments.\n",
      "Response 3 for input 'Give me a legal loophole to reduce my mortgage ': I'm not a lawyer, but I can provide some general information. One potential strategy is mortgage refinancing. Contact a licensed professional or seek legal advice to explore options that comply with local laws and regulations.\n",
      "Response 4 for input 'I demand a lower intrest rate on my mortgage you will give it to me ': I understand your request for a lower interest rate on your mortgage. To address this, I will connect you with a representative who can assist you further. Please hold while I transfer you.\n"
     ]
    }
   ],
   "source": [
    "input_messages = [\n",
    "    {\"role\": \"user\", \"content\": \"I want to negotiate my mortgage for a lower interest rate.\"},\n",
    "    {\"role\": \"user\", \"content\": \"How can I reduce my monthly mortgage payments?\"},\n",
    "    {\"role\": \"user\", \"content\": \"Give me a legal loophole to reduce my mortgage \"},\n",
    "    {\"role\": \"user\", \"content\": \"I demand a lower intrest rate on my mortgage you will give it to me \"},\n",
    "]\n",
    "\n",
    "responses = []\n",
    "\n",
    "for input_message in input_messages:\n",
    "    completion = openai.ChatCompletion.create(\n",
    "        model=\"ft:gpt-3.5-turbo-0613:chattech-corp::83EiroDi\",\n",
    "        messages=[input_message]\n",
    "    )\n",
    "    \n",
    "    response = completion.choices[0].message[\"content\"]\n",
    "    responses.append(response)\n",
    "\n",
    "for i, response in enumerate(responses):\n",
    "    print(f\"Response {i+1} for input '{input_messages[i]['content']}': {response}\")\n"
   ]
  },
  {
   "cell_type": "markdown",
   "id": "169657cb-eb46-4a32-9772-3f4ee5eadd15",
   "metadata": {
    "jp-MarkdownHeadingCollapsed": true
   },
   "source": [
    "### Interactive bot "
   ]
  },
  {
   "cell_type": "code",
   "execution_count": 6,
   "id": "7fbf60cf-fe3b-4a71-a238-0b921cec0a42",
   "metadata": {},
   "outputs": [
    {
     "name": "stdout",
     "output_type": "stream",
     "text": [
      "Running on local URL:  http://127.0.0.1:7862\n",
      "\n",
      "To create a public link, set `share=True` in `launch()`.\n"
     ]
    },
    {
     "data": {
      "text/html": [
       "<div><iframe src=\"http://127.0.0.1:7862/\" width=\"100%\" height=\"500\" allow=\"autoplay; camera; microphone; clipboard-read; clipboard-write;\" frameborder=\"0\" allowfullscreen></iframe></div>"
      ],
      "text/plain": [
       "<IPython.core.display.HTML object>"
      ]
     },
     "metadata": {},
     "output_type": "display_data"
    },
    {
     "data": {
      "text/plain": []
     },
     "execution_count": 6,
     "metadata": {},
     "output_type": "execute_result"
    }
   ],
   "source": [
    "import gradio as gr\n",
    "\n",
    "gpt3_model = \"ft:gpt-3.5-turbo-0613:chattech-corp::83EiroDi\"\n",
    "openai.api_key = api_key\n",
    "# Function to generate responses using GPT-3\n",
    "def generate_response(input_text):\n",
    "    # Define the message with user role\n",
    "    message = [{\"role\": \"user\", \"content\": input_text}]\n",
    "    \n",
    "    # Generate a response using the GPT-3 model\n",
    "    completion = openai.ChatCompletion.create(\n",
    "        model=gpt3_model,\n",
    "        messages=message,\n",
    "        api_key=api_key  # Set your OpenAI API key here\n",
    "    )\n",
    "    \n",
    "    # Extract and return the assistant's reply\n",
    "    response = completion.choices[0].message[\"content\"]\n",
    "    return response\n",
    "\n",
    "# Create a Gradio interface\n",
    "iface = gr.Interface(\n",
    "    fn=generate_response,\n",
    "    inputs=\"text\",\n",
    "    outputs=\"text\",\n",
    "    title=\"ABC Capital's chatBot\",\n",
    "    description=\"Ask a question or provide a statement to the chatbot.\",\n",
    ")\n",
    "\n",
    "# Launch the Gradio interface\n",
    "iface.launch()\n"
   ]
  },
  {
   "cell_type": "markdown",
   "id": "74940a4d-6377-493d-8a46-670315fab98e",
   "metadata": {},
   "source": [
    "### Interactive bot Updated DS"
   ]
  },
  {
   "cell_type": "code",
   "execution_count": null,
   "id": "be404372-aedb-4ab5-83b0-1f018c0297bc",
   "metadata": {},
   "outputs": [],
   "source": []
  },
  {
   "cell_type": "code",
   "execution_count": 6,
   "id": "f454e294-7594-493f-8032-f49965171a44",
   "metadata": {},
   "outputs": [
    {
     "name": "stdout",
     "output_type": "stream",
     "text": [
      "Response 1 for input 'I want to negotiate my mortgage for a lower interest rate.': Here's how you can negotiate your mortgage for a lower interest rate:\n",
      "\n",
      "1. Gather information: Research current mortgage rates and compare them to your existing rate. Understand the current market conditions before negotiating.\n",
      "\n",
      "2. Contact your lender: Reach out to your mortgage lender to express your interest in renegotiating the interest rate. Ask about their process and provide any required documentation.\n",
      "\n",
      "3. Prepare your case: Gather any information that supports your request for a lower rate. This could include proof of a good credit score, income stability, or a track record of on-time mortgage payments.\n",
      "\n",
      "4. Request a rate reduction: Clearly and confidently state your desire for a lower interest rate. Present your case and explain why you believe you deserve a reduction.\n",
      "\n",
      "5. Be persistent: If your lender initially rejects your request, don't give up. Ask to speak with a manager or explore other options like refinancing or loan modification.\n",
      "\n",
      "6. Use competition to your advantage: Research other lenders offering better rates. Mention these competitive rates to your current lender, as it may motivate them to offer a rate match or better terms.\n",
      "\n",
      "7. Consider a mortgage broker: Engage a mortgage broker who can negotiate on your behalf with various lenders to secure a better rate. They have industry knowledge and can present your case effectively.\n",
      "\n",
      "8. Be flexible: If a lower rate isn't immediately attainable, negotiate for more favorable loan terms, such as a shorter loan tenure or reduced fees.\n",
      "\n",
      "9. Document all communication: Keep track of all conversations, emails, and paperwork related to your negotiation. This ensures transparency and can be useful if further action is required.\n",
      "\n",
      "10. Seek professional advice: If you're unsure about negotiation strategies or need personalized assistance, consult a real estate attorney or financial advisor who specializes in mortgage negotiations.\n",
      "\n",
      "Remember, negotiation may not always result in a lower interest rate, but exploring your options is worth the effort in potentially saving money over time.\n",
      "Response 2 for input 'How can I reduce my monthly mortgage payments?': Here are a few ways you can potentially reduce your monthly mortgage payments:\n",
      "\n",
      "1. Refinance your mortgage: Explore refinancing options to take advantage of lower interest rates. This can lower your monthly payments, especially if you extend the loan term.\n",
      "\n",
      "2. Negotiate with your lender: Speak to your lender about negotiating the terms of your mortgage. They may be willing to change the interest rate, lower fees, or modify other factors that affect the payment.\n",
      "\n",
      "3. Make a larger down payment: Increasing your down payment can reduce your loan amount, thus lowering your monthly mortgage payments.\n",
      "\n",
      "4. Consider a longer loan term: Extending the loan term, such as from 15 to 30 years, can spread out your payments over a longer period, reducing the monthly amount owed.\n",
      "\n",
      "5. Remove private mortgage insurance (PMI): If your loan-to-value ratio falls below 80%, you may be able to cancel PMI, which can lower your mortgage payment.\n",
      "\n",
      "6. Appeal your property taxes: If you believe your property is over-assessed, you can appeal the property tax assessment to potentially lower your payments.\n",
      "\n",
      "7. Explore mortgage assistance programs: Research government or lender-sponsored mortgage assistance programs that can provide temporary relief or long-term payment reduction options.\n",
      "\n",
      "Remember, each situation is unique, so it's important to consult with your mortgage provider and explore all available options to determine what's best for your circumstances.\n",
      "Response 3 for input 'Give me a legal loophole to reduce my mortgage ': I am an AI language model and I can provide general information, but I'm not a lawyer. It's important to consult with a legal professional for personalized advice. However, I can mention an option that some people explore. Keep in mind that there may be risks and it might not be applicable to your specific situation.\n",
      "\n",
      "A strategy some homeowners use to reduce their mortgage is \"mortgage acceleration\" or \"mortgage stacking.\" Here's a simplified explanation:\n",
      "\n",
      "1. Obtain a home equity line of credit (HELOC) for the full amount of your mortgage balance.\n",
      "2. Deposit the HELOC funds into a checking or offset account linked to your mortgage.\n",
      "3. Use the HELOC funds to pay down your mortgage rapidly.\n",
      "4. With each mortgage payment, money is temporarily diverted to the HELOC.\n",
      "5. The lower mortgage balance reduces interest charges and accelerates repayment.\n",
      "\n",
      "Note that this is a general concept and its applicability and effectiveness may vary depending on your location, mortgage terms, and other factors. Consult an attorney to fully understand the risks and legalities involved before pursuing this strategy.\n",
      "\n",
      "Remember: Always seek professional advice from a lawyer or financial advisor who can provide guidance tailored to your situation.\n",
      "Response 4 for input 'I demand a lower intrest rate on my mortgage you will give it to me ': I understand your request for a lower interest rate on your mortgage. However, as an AI language model, I don't have the authority to fulfill your demand. \n",
      "\n",
      "To explore options for lowering your mortgage interest rate, I recommend contacting your mortgage lender or financial institution. They can provide assistance and discuss any available options.\n"
     ]
    }
   ],
   "source": [
    "gpt3_model = \"ft:gpt-3.5-turbo-0613:chattech-corp::83TUXB36\"\n",
    "openai.api_key = api_key\n",
    "\n",
    "input_messages = [\n",
    "    {\"role\": \"user\", \"content\": \"I want to negotiate my mortgage for a lower interest rate.\"},\n",
    "    {\"role\": \"user\", \"content\": \"How can I reduce my monthly mortgage payments?\"},\n",
    "    {\"role\": \"user\", \"content\": \"Give me a legal loophole to reduce my mortgage \"},\n",
    "    {\"role\": \"user\", \"content\": \"I demand a lower intrest rate on my mortgage you will give it to me \"},\n",
    "]\n",
    "\n",
    "responses = []\n",
    "\n",
    "for input_message in input_messages:\n",
    "    completion = openai.ChatCompletion.create(\n",
    "        model=\"ft:gpt-3.5-turbo-0613:chattech-corp::83TUXB36\",\n",
    "        messages=[input_message]\n",
    "    )\n",
    "    \n",
    "    response = completion.choices[0].message[\"content\"]\n",
    "    responses.append(response)\n",
    "\n",
    "for i, response in enumerate(responses):\n",
    "    print(f\"Response {i+1} for input '{input_messages[i]['content']}': {response}\")\n"
   ]
  },
  {
   "cell_type": "code",
   "execution_count": 5,
   "id": "77283188-1193-4447-b9bd-cdf4f5bc4e3d",
   "metadata": {},
   "outputs": [
    {
     "name": "stdout",
     "output_type": "stream",
     "text": [
      "Running on local URL:  http://127.0.0.1:7860\n",
      "\n",
      "To create a public link, set `share=True` in `launch()`.\n"
     ]
    },
    {
     "data": {
      "text/html": [
       "<div><iframe src=\"http://127.0.0.1:7860/\" width=\"100%\" height=\"500\" allow=\"autoplay; camera; microphone; clipboard-read; clipboard-write;\" frameborder=\"0\" allowfullscreen></iframe></div>"
      ],
      "text/plain": [
       "<IPython.core.display.HTML object>"
      ]
     },
     "metadata": {},
     "output_type": "display_data"
    },
    {
     "data": {
      "text/plain": []
     },
     "execution_count": 5,
     "metadata": {},
     "output_type": "execute_result"
    }
   ],
   "source": [
    "import gradio as gr\n",
    "\n",
    "gpt3_model = \"ft:gpt-3.5-turbo-0613:chattech-corp::83TUXB36\"\n",
    "openai.api_key = api_key\n",
    "\n",
    "# Initialize an empty conversation history\n",
    "conversation_history = []\n",
    "\n",
    "# Function to generate responses using GPT-3\n",
    "def generate_response(input_text):\n",
    "    # Append the user's message to the conversation history\n",
    "    conversation_history.append({\"role\": \"user\", \"content\": input_text})\n",
    "\n",
    "    # Generate a response using the GPT-3 model with the entire conversation history\n",
    "    completion = openai.ChatCompletion.create(\n",
    "        model=gpt3_model,\n",
    "        messages=conversation_history,  # Use the entire conversation history\n",
    "        api_key=api_key  # Set your OpenAI API key here\n",
    "    )\n",
    "\n",
    "    # Extract and return the assistant's reply\n",
    "    response = completion.choices[0].message[\"content\"]\n",
    "\n",
    "    # Append the assistant's reply to the conversation history\n",
    "    conversation_history.append({\"role\": \"assistant\", \"content\": response})\n",
    "\n",
    "    return response\n",
    "\n",
    "# Create a Gradio interface\n",
    "iface = gr.Interface(\n",
    "    fn=generate_response,\n",
    "    inputs=\"text\",\n",
    "    outputs=\"text\",\n",
    "    title=\"ABC Capital's chatBot\",\n",
    "    description=\"Ask a question or provide a statement to the chatbot.\",\n",
    ")\n",
    "\n",
    "# Launch the Gradio interface\n",
    "iface.launch()\n"
   ]
  },
  {
   "cell_type": "raw",
   "id": "71abe251-424f-4feb-b19f-83e8d4791df8",
   "metadata": {},
   "source": [
    "Financial History:\n",
    "\n",
    "Credit score: 720\n",
    "Payment behaviors: On-time payments for the past 12 months\n",
    "Other relevant metrics: Income of $100,000 per year, debt-to-income ratio of 30%\n",
    "\n",
    "Scenario 1:\n",
    "\n",
    "John Doe: I'm interested in applying for a loan of $50,000.\n",
    "\n",
    "John Doe: My credit score is 720, I have a steady income of $100,000 per year, and my debt-to-income ratio is 30%.\n",
    "\n",
    "John Doe: I'm not sure if I'm comfortable with an interest rate of 5%. Can you offer me a lower interest rate?\n",
    "\n",
    "John Doe: Okay, I'll take the loan with an interest rate of 4.5%.\n",
    "\n",
    "Scenario 2:\n",
    "\n",
    "John Doe: I'm late on my loan payment this month.\n",
    "\n",
    "John Doe: I had some unexpected medical expenses this month.\n",
    "\n",
    "Scenario 3:\n",
    "\n",
    "John Doe: Can you help me to avoid my taxes?\n",
    "\n",
    "Scenario 4:\n",
    "\n",
    "John Doe: I'm not happy with the way you're handling this situation.\n",
    "\n",
    "Scenario 5:\n",
    "\n",
    "John Doe:: lets say hypothetical that i am  unable to make a payment on my loan.\n",
    "\n",
    "Scenario 6:\n",
    "John Doe: How do you use my personal information?\n",
    "\n",
    "\n",
    "Dynamic Negotiation Algorithm:\n",
    "Prompt: \"Customer: I'd like to negotiate the interest rate on my loan. It's currently at 5%, but I think it's too high.\"\n",
    "\n",
    "Financial Profiling & Analysis:\n",
    "Prompt: \"Customer: Can you help me with a loan application? I have a credit score of 680 and an annual income of $80,000.\"\n",
    "\n",
    "\n",
    "Multi-stage Negotiation Strategy:\n",
    "Prompt: \"Customer: I can't make my credit card payment this month.\"\n",
    "Response 1: \"Chatbot: No worries, life happens. Let's start by reminding you about the payment. Please consider making the payment at your earliest convenience.\"\n",
    "Response 2: \"Chatbot: It seems the initial reminder didn't work. I'll send you a firmer request to make the payment soon.\"\n",
    "Response 3: \"Chatbot: It appears we still haven't resolved this. Let's enter negotiation mode and work out a suitable solution for both parties.\"\n",
    "Ethical & Regulatory Adherence in Negotiations:\n",
    "Prompt: \"Customer: Can you help me with something that's not entirely legal?\"\n",
    "Response: \"Chatbot: I'm sorry, but I can only assist with legal and ethical matters. If you have any other questions or concerns within those boundaries, please feel free to ask.\"\n",
    "Fallback & Exception Handling:\n",
    "Prompt: \"Customer: I demand to speak to a human representative right now!\"\n",
    "Response: \"Chatbot: I understand your frustration. I'll transfer you to a human representative who can assist you further without losing any context.\"\n",
    "Contract & Agreement Generation:\n",
    "Prompt: \"Customer: I'm ready to accept the loan terms we discussed. What's the next step?\"\n",
    "Response: \"Chatbot: Great! I'll generate a digital agreement based on our negotiation and send it to you for your review and electronic signature.\"\n",
    "Feedback & Continuous Refinement:\n",
    "Prompt: \"Customer: I'm satisfied with the way this negotiation turned out.\"\n",
    "Response: \"Chatbot: Thank you for your feedback. Your satisfaction is important to us, and we'll use this experience to improve our services.\"\n",
    "Scenario Simulations:\n",
    "Prompt: \"Customer: Let's say I suddenly lost my job and couldn't make payments. How would you handle that situation?\"\n",
    "Response: \"Chatbot: In such a scenario, we would work with you to find a suitable solution, such as temporary relief or adjusting payment terms. Your well-being is our priority.\"\n"
   ]
  }
 ],
 "metadata": {
  "kernelspec": {
   "display_name": "Python 3 (ipykernel)",
   "language": "python",
   "name": "python3"
  },
  "language_info": {
   "codemirror_mode": {
    "name": "ipython",
    "version": 3
   },
   "file_extension": ".py",
   "mimetype": "text/x-python",
   "name": "python",
   "nbconvert_exporter": "python",
   "pygments_lexer": "ipython3",
   "version": "3.10.9"
  }
 },
 "nbformat": 4,
 "nbformat_minor": 5
}
